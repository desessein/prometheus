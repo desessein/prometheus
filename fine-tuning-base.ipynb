{
 "cells": [
  {
   "cell_type": "code",
   "execution_count": 1,
   "id": "f45ba767-ba7e-4adf-a00a-66d58efa4630",
   "metadata": {
    "scrolled": true
   },
   "outputs": [
    {
     "name": "stdout",
     "output_type": "stream",
     "text": [
      "Requirement already satisfied: tensorflow in /usr/local/lib/python3.10/dist-packages (2.15.0.post1)\n",
      "Requirement already satisfied: keras in /usr/local/lib/python3.10/dist-packages (2.15.0)\n",
      "Requirement already satisfied: numpy in /usr/local/lib/python3.10/dist-packages (1.26.3)\n",
      "Requirement already satisfied: matplotlib in /usr/local/lib/python3.10/dist-packages (3.8.3)\n",
      "Requirement already satisfied: pandas in /usr/local/lib/python3.10/dist-packages (2.2.1)\n",
      "Requirement already satisfied: scipy in /usr/local/lib/python3.10/dist-packages (1.12.0)\n",
      "Requirement already satisfied: absl-py>=1.0.0 in /usr/local/lib/python3.10/dist-packages (from tensorflow) (2.1.0)\n",
      "Requirement already satisfied: astunparse>=1.6.0 in /usr/local/lib/python3.10/dist-packages (from tensorflow) (1.6.3)\n",
      "Requirement already satisfied: flatbuffers>=23.5.26 in /usr/local/lib/python3.10/dist-packages (from tensorflow) (23.5.26)\n",
      "Requirement already satisfied: gast!=0.5.0,!=0.5.1,!=0.5.2,>=0.2.1 in /usr/local/lib/python3.10/dist-packages (from tensorflow) (0.5.4)\n",
      "Requirement already satisfied: google-pasta>=0.1.1 in /usr/local/lib/python3.10/dist-packages (from tensorflow) (0.2.0)\n",
      "Requirement already satisfied: h5py>=2.9.0 in /usr/local/lib/python3.10/dist-packages (from tensorflow) (3.10.0)\n",
      "Requirement already satisfied: libclang>=13.0.0 in /usr/local/lib/python3.10/dist-packages (from tensorflow) (16.0.6)\n",
      "Requirement already satisfied: ml-dtypes~=0.2.0 in /usr/local/lib/python3.10/dist-packages (from tensorflow) (0.2.0)\n",
      "Requirement already satisfied: opt-einsum>=2.3.2 in /usr/local/lib/python3.10/dist-packages (from tensorflow) (3.3.0)\n",
      "Requirement already satisfied: packaging in /usr/local/lib/python3.10/dist-packages (from tensorflow) (23.2)\n",
      "Requirement already satisfied: protobuf!=4.21.0,!=4.21.1,!=4.21.2,!=4.21.3,!=4.21.4,!=4.21.5,<5.0.0dev,>=3.20.3 in /usr/local/lib/python3.10/dist-packages (from tensorflow) (4.25.3)\n",
      "Requirement already satisfied: setuptools in /usr/local/lib/python3.10/dist-packages (from tensorflow) (69.0.3)\n",
      "Requirement already satisfied: six>=1.12.0 in /usr/lib/python3/dist-packages (from tensorflow) (1.16.0)\n",
      "Requirement already satisfied: termcolor>=1.1.0 in /usr/local/lib/python3.10/dist-packages (from tensorflow) (2.4.0)\n",
      "Requirement already satisfied: typing-extensions>=3.6.6 in /usr/local/lib/python3.10/dist-packages (from tensorflow) (4.9.0)\n",
      "Requirement already satisfied: wrapt<1.15,>=1.11.0 in /usr/local/lib/python3.10/dist-packages (from tensorflow) (1.14.1)\n",
      "Requirement already satisfied: tensorflow-io-gcs-filesystem>=0.23.1 in /usr/local/lib/python3.10/dist-packages (from tensorflow) (0.36.0)\n",
      "Requirement already satisfied: grpcio<2.0,>=1.24.3 in /usr/local/lib/python3.10/dist-packages (from tensorflow) (1.62.0)\n",
      "Requirement already satisfied: tensorboard<2.16,>=2.15 in /usr/local/lib/python3.10/dist-packages (from tensorflow) (2.15.2)\n",
      "Requirement already satisfied: tensorflow-estimator<2.16,>=2.15.0 in /usr/local/lib/python3.10/dist-packages (from tensorflow) (2.15.0)\n",
      "Requirement already satisfied: contourpy>=1.0.1 in /usr/local/lib/python3.10/dist-packages (from matplotlib) (1.2.0)\n",
      "Requirement already satisfied: cycler>=0.10 in /usr/local/lib/python3.10/dist-packages (from matplotlib) (0.12.1)\n",
      "Requirement already satisfied: fonttools>=4.22.0 in /usr/local/lib/python3.10/dist-packages (from matplotlib) (4.49.0)\n",
      "Requirement already satisfied: kiwisolver>=1.3.1 in /usr/local/lib/python3.10/dist-packages (from matplotlib) (1.4.5)\n",
      "Requirement already satisfied: pillow>=8 in /usr/local/lib/python3.10/dist-packages (from matplotlib) (10.2.0)\n",
      "Requirement already satisfied: pyparsing>=2.3.1 in /usr/lib/python3/dist-packages (from matplotlib) (2.4.7)\n",
      "Requirement already satisfied: python-dateutil>=2.7 in /usr/local/lib/python3.10/dist-packages (from matplotlib) (2.8.2)\n",
      "Requirement already satisfied: pytz>=2020.1 in /usr/local/lib/python3.10/dist-packages (from pandas) (2024.1)\n",
      "Requirement already satisfied: tzdata>=2022.7 in /usr/local/lib/python3.10/dist-packages (from pandas) (2024.1)\n",
      "Requirement already satisfied: wheel<1.0,>=0.23.0 in /usr/local/lib/python3.10/dist-packages (from astunparse>=1.6.0->tensorflow) (0.42.0)\n",
      "Requirement already satisfied: google-auth<3,>=1.6.3 in /usr/local/lib/python3.10/dist-packages (from tensorboard<2.16,>=2.15->tensorflow) (2.28.1)\n",
      "Requirement already satisfied: google-auth-oauthlib<2,>=0.5 in /usr/local/lib/python3.10/dist-packages (from tensorboard<2.16,>=2.15->tensorflow) (1.2.0)\n",
      "Requirement already satisfied: markdown>=2.6.8 in /usr/local/lib/python3.10/dist-packages (from tensorboard<2.16,>=2.15->tensorflow) (3.5.2)\n",
      "Requirement already satisfied: requests<3,>=2.21.0 in /usr/local/lib/python3.10/dist-packages (from tensorboard<2.16,>=2.15->tensorflow) (2.31.0)\n",
      "Requirement already satisfied: tensorboard-data-server<0.8.0,>=0.7.0 in /usr/local/lib/python3.10/dist-packages (from tensorboard<2.16,>=2.15->tensorflow) (0.7.2)\n",
      "Requirement already satisfied: werkzeug>=1.0.1 in /usr/local/lib/python3.10/dist-packages (from tensorboard<2.16,>=2.15->tensorflow) (3.0.1)\n",
      "Requirement already satisfied: cachetools<6.0,>=2.0.0 in /usr/local/lib/python3.10/dist-packages (from google-auth<3,>=1.6.3->tensorboard<2.16,>=2.15->tensorflow) (5.3.3)\n",
      "Requirement already satisfied: pyasn1-modules>=0.2.1 in /usr/local/lib/python3.10/dist-packages (from google-auth<3,>=1.6.3->tensorboard<2.16,>=2.15->tensorflow) (0.3.0)\n",
      "Requirement already satisfied: rsa<5,>=3.1.4 in /usr/local/lib/python3.10/dist-packages (from google-auth<3,>=1.6.3->tensorboard<2.16,>=2.15->tensorflow) (4.9)\n",
      "Requirement already satisfied: requests-oauthlib>=0.7.0 in /usr/local/lib/python3.10/dist-packages (from google-auth-oauthlib<2,>=0.5->tensorboard<2.16,>=2.15->tensorflow) (1.3.1)\n",
      "Requirement already satisfied: charset-normalizer<4,>=2 in /usr/local/lib/python3.10/dist-packages (from requests<3,>=2.21.0->tensorboard<2.16,>=2.15->tensorflow) (3.3.2)\n",
      "Requirement already satisfied: idna<4,>=2.5 in /usr/local/lib/python3.10/dist-packages (from requests<3,>=2.21.0->tensorboard<2.16,>=2.15->tensorflow) (3.6)\n",
      "Requirement already satisfied: urllib3<3,>=1.21.1 in /usr/local/lib/python3.10/dist-packages (from requests<3,>=2.21.0->tensorboard<2.16,>=2.15->tensorflow) (2.2.0)\n",
      "Requirement already satisfied: certifi>=2017.4.17 in /usr/local/lib/python3.10/dist-packages (from requests<3,>=2.21.0->tensorboard<2.16,>=2.15->tensorflow) (2024.2.2)\n",
      "Requirement already satisfied: MarkupSafe>=2.1.1 in /usr/local/lib/python3.10/dist-packages (from werkzeug>=1.0.1->tensorboard<2.16,>=2.15->tensorflow) (2.1.5)\n",
      "Requirement already satisfied: pyasn1<0.6.0,>=0.4.6 in /usr/local/lib/python3.10/dist-packages (from pyasn1-modules>=0.2.1->google-auth<3,>=1.6.3->tensorboard<2.16,>=2.15->tensorflow) (0.5.1)\n",
      "Requirement already satisfied: oauthlib>=3.0.0 in /usr/lib/python3/dist-packages (from requests-oauthlib>=0.7.0->google-auth-oauthlib<2,>=0.5->tensorboard<2.16,>=2.15->tensorflow) (3.2.0)\n",
      "\u001b[33mWARNING: Running pip as the 'root' user can result in broken permissions and conflicting behaviour with the system package manager. It is recommended to use a virtual environment instead: https://pip.pypa.io/warnings/venv\u001b[0m\u001b[33m\n",
      "\u001b[0mNote: you may need to restart the kernel to use updated packages.\n"
     ]
    }
   ],
   "source": [
    "pip install tensorflow keras numpy matplotlib pandas scipy"
   ]
  },
  {
   "cell_type": "code",
   "execution_count": 2,
   "id": "8e0ad3d7-e152-4c48-acae-6ca36ef57be9",
   "metadata": {},
   "outputs": [
    {
     "name": "stderr",
     "output_type": "stream",
     "text": [
      "2024-03-01 12:58:46.607697: E external/local_xla/xla/stream_executor/cuda/cuda_dnn.cc:9261] Unable to register cuDNN factory: Attempting to register factory for plugin cuDNN when one has already been registered\n",
      "2024-03-01 12:58:46.607746: E external/local_xla/xla/stream_executor/cuda/cuda_fft.cc:607] Unable to register cuFFT factory: Attempting to register factory for plugin cuFFT when one has already been registered\n",
      "2024-03-01 12:58:46.609277: E external/local_xla/xla/stream_executor/cuda/cuda_blas.cc:1515] Unable to register cuBLAS factory: Attempting to register factory for plugin cuBLAS when one has already been registered\n",
      "2024-03-01 12:58:46.617458: I tensorflow/core/platform/cpu_feature_guard.cc:182] This TensorFlow binary is optimized to use available CPU instructions in performance-critical operations.\n",
      "To enable the following instructions: AVX2 FMA, in other operations, rebuild TensorFlow with the appropriate compiler flags.\n",
      "2024-03-01 12:58:47.595134: W tensorflow/compiler/tf2tensorrt/utils/py_utils.cc:38] TF-TRT Warning: Could not find TensorRT\n"
     ]
    }
   ],
   "source": [
    "import tensorflow as tf\n",
    "from tensorflow import keras"
   ]
  },
  {
   "cell_type": "code",
   "execution_count": 3,
   "id": "d5e38ece-556a-41e4-bfcb-dddbd6f5ca4c",
   "metadata": {},
   "outputs": [],
   "source": [
    "import numpy as np\n",
    "from keras import backend as K\n",
    "from keras.models import Sequential\n",
    "from keras.layers import Dense, Flatten\n",
    "from keras.optimizers import Adam\n",
    "from keras.metrics import categorical_crossentropy\n",
    "from keras.preprocessing.image import ImageDataGenerator\n",
    "from keras.layers import BatchNormalization\n",
    "from keras.layers import *\n",
    "import pandas as pd\n",
    "from keras.models import load_model\n",
    "from keras.preprocessing import image"
   ]
  },
  {
   "cell_type": "markdown",
   "id": "c39706bf-76ac-448e-b006-e4a676507c0b",
   "metadata": {},
   "source": [
    "### Defining the train images path and partial test images path in which we have to add the image to convert it into full path.\r\n"
   ]
  },
  {
   "cell_type": "code",
   "execution_count": 4,
   "id": "f110c020-f4c0-4aa6-b5a3-6ef608b8087b",
   "metadata": {},
   "outputs": [],
   "source": [
    "train_path = 'DataSet/Train'\n",
    "test_path = 'DataSet\\Test\\\\'"
   ]
  },
  {
   "cell_type": "code",
   "execution_count": 5,
   "id": "8d700833-11a3-4329-9651-0f6cc16b104c",
   "metadata": {},
   "outputs": [
    {
     "name": "stdout",
     "output_type": "stream",
     "text": [
      "Found 150 images belonging to 6 classes.\n"
     ]
    }
   ],
   "source": [
    "train_batches = ImageDataGenerator().flow_from_directory(train_path,target_size = (224,224),classes=['RG_Frente','RG_Verso', 'CPF_Frente', 'CPF_Verso', 'CNH_Frente', 'CNH_Verso'],batch_size = 7)"
   ]
  },
  {
   "cell_type": "markdown",
   "id": "11ef01b5-480f-4684-bf46-079155c9a697",
   "metadata": {},
   "source": [
    "### Importing keras pretrained model (without top layers) resnet50 which we are going to use as base model.\r\n"
   ]
  },
  {
   "cell_type": "code",
   "execution_count": 6,
   "id": "dc8418e7-5a1a-43e0-b582-3288d9aa3aa8",
   "metadata": {},
   "outputs": [
    {
     "name": "stderr",
     "output_type": "stream",
     "text": [
      "2024-03-01 12:59:01.127680: I tensorflow/core/common_runtime/gpu/gpu_device.cc:1929] Created device /job:localhost/replica:0/task:0/device:GPU:0 with 18455 MB memory:  -> device: 0, name: NVIDIA RTX A4500, pci bus id: 0000:81:00.0, compute capability: 8.6\n"
     ]
    }
   ],
   "source": [
    "base_model = keras.applications.resnet50.ResNet50( weights = 'imagenet',include_top = False,input_shape = (224,224,3))"
   ]
  },
  {
   "cell_type": "code",
   "execution_count": 7,
   "id": "8be906d6-f73e-460e-adea-19ae1a0c63da",
   "metadata": {},
   "outputs": [],
   "source": [
    "for layer in base_model.layers:\n",
    "    layer.trainable = False"
   ]
  },
  {
   "cell_type": "markdown",
   "id": "b02cc054-6ae8-4b98-a811-c42ecf03a7cc",
   "metadata": {},
   "source": [
    "### Making keras sequential model by using base model layer as its lower layer and two fully connected dense layer as its top layer which are trainable."
   ]
  },
  {
   "cell_type": "code",
   "execution_count": 12,
   "id": "a6b48367-802c-4996-86d9-dc63ad2fdfd5",
   "metadata": {},
   "outputs": [
    {
     "name": "stdout",
     "output_type": "stream",
     "text": [
      "Model: \"sequential_1\"\n",
      "_________________________________________________________________\n",
      " Layer (type)                Output Shape              Param #   \n",
      "=================================================================\n",
      " resnet50 (Functional)       (None, 7, 7, 2048)        23587712  \n",
      "                                                                 \n",
      " flatten_1 (Flatten)         (None, 100352)            0         \n",
      "                                                                 \n",
      " dense_2 (Dense)             (None, 1000)              100353000 \n",
      "                                                                 \n",
      " dense_3 (Dense)             (None, 6)                 6006      \n",
      "                                                                 \n",
      "=================================================================\n",
      "Total params: 123946718 (472.82 MB)\n",
      "Trainable params: 100359006 (382.84 MB)\n",
      "Non-trainable params: 23587712 (89.98 MB)\n",
      "_________________________________________________________________\n",
      "None\n"
     ]
    }
   ],
   "source": [
    "model = Sequential()\n",
    "model.add(base_model)\n",
    "model.add(Flatten())\n",
    "model.add(Dense(1000,activation = 'relu'))\n",
    "model.add(Dense(6,activation = 'sigmoid'))\n",
    "print(model.summary())"
   ]
  },
  {
   "cell_type": "markdown",
   "id": "c5d27822-76b6-4165-8300-ff8ab84aa98c",
   "metadata": {},
   "source": [
    "### Compile and train the model on epoch = 5"
   ]
  },
  {
   "cell_type": "code",
   "execution_count": 13,
   "id": "9a36fca6-04fe-4755-ae17-ee8359d89c2c",
   "metadata": {},
   "outputs": [],
   "source": [
    "model.compile(optimizer=Adam(),\n",
    "              loss='binary_crossentropy',\n",
    "              metrics=['accuracy'])"
   ]
  },
  {
   "cell_type": "code",
   "execution_count": 15,
   "id": "dbcbc5f6-ef78-4cf0-9cd4-0dcfc9df7911",
   "metadata": {},
   "outputs": [
    {
     "name": "stdout",
     "output_type": "stream",
     "text": [
      "Epoch 1/20\n",
      "7/7 [==============================] - 0s 50ms/step - loss: 0.4838 - accuracy: 0.9796\n",
      "Epoch 2/20\n",
      "7/7 [==============================] - 0s 48ms/step - loss: 1.4257 - accuracy: 0.9388\n",
      "Epoch 3/20\n",
      "7/7 [==============================] - 0s 55ms/step - loss: 0.0253 - accuracy: 1.0000\n",
      "Epoch 4/20\n",
      "7/7 [==============================] - 0s 49ms/step - loss: 8.8850e-06 - accuracy: 1.0000\n",
      "Epoch 5/20\n",
      "7/7 [==============================] - 0s 45ms/step - loss: 1.6408e-14 - accuracy: 1.0000\n",
      "Epoch 6/20\n",
      "7/7 [==============================] - 0s 54ms/step - loss: 1.2521e-13 - accuracy: 1.0000\n",
      "Epoch 7/20\n",
      "7/7 [==============================] - 0s 46ms/step - loss: 8.2286e-13 - accuracy: 1.0000\n",
      "Epoch 8/20\n",
      "7/7 [==============================] - 0s 74ms/step - loss: 2.4929e-17 - accuracy: 1.0000\n",
      "Epoch 9/20\n",
      "7/7 [==============================] - 0s 54ms/step - loss: 0.1632 - accuracy: 0.9796\n",
      "Epoch 10/20\n",
      "7/7 [==============================] - 0s 47ms/step - loss: 1.8217e-16 - accuracy: 1.0000\n",
      "Epoch 11/20\n",
      "7/7 [==============================] - 0s 48ms/step - loss: 6.1492e-17 - accuracy: 1.0000\n",
      "Epoch 12/20\n",
      "7/7 [==============================] - 0s 52ms/step - loss: 2.6368e-11 - accuracy: 1.0000\n",
      "Epoch 13/20\n",
      "7/7 [==============================] - 0s 44ms/step - loss: 1.7600e-09 - accuracy: 1.0000\n",
      "Epoch 14/20\n",
      "7/7 [==============================] - 0s 44ms/step - loss: 2.8539e-06 - accuracy: 1.0000\n",
      "Epoch 15/20\n",
      "7/7 [==============================] - 0s 45ms/step - loss: 6.5813e-05 - accuracy: 1.0000\n",
      "Epoch 16/20\n",
      "7/7 [==============================] - 0s 46ms/step - loss: 8.9661e-09 - accuracy: 1.0000\n",
      "Epoch 17/20\n",
      "7/7 [==============================] - 0s 58ms/step - loss: 2.7631e-11 - accuracy: 1.0000\n",
      "Epoch 18/20\n",
      "7/7 [==============================] - 0s 57ms/step - loss: 8.0569e-15 - accuracy: 1.0000\n",
      "Epoch 19/20\n",
      "7/7 [==============================] - 0s 46ms/step - loss: 3.0834e-06 - accuracy: 1.0000\n",
      "Epoch 20/20\n",
      "7/7 [==============================] - 0s 44ms/step - loss: 8.2902e-09 - accuracy: 1.0000\n"
     ]
    }
   ],
   "source": [
    "history = model.fit(train_batches,\n",
    "                              epochs=20,\n",
    "                              steps_per_epoch = 7,\n",
    "                             )"
   ]
  },
  {
   "cell_type": "code",
   "execution_count": 28,
   "id": "0f754bfb-ef6b-400b-a7d5-3f4232945590",
   "metadata": {},
   "outputs": [
    {
     "name": "stdout",
     "output_type": "stream",
     "text": [
      "lunar keras saved\n"
     ]
    }
   ],
   "source": [
    "model.save('lunar-v4.keras')\n",
    "print(\"lunar keras saved\")"
   ]
  },
  {
   "cell_type": "code",
   "execution_count": 24,
   "id": "db9481c2-3f55-462d-a3a7-579a8200544e",
   "metadata": {},
   "outputs": [],
   "source": [
    "def predict(img_path):\n",
    "    test_image = image.load_img(img_path, target_size=(224, 224))\n",
    "    test_image = image.img_to_array(test_image)\n",
    "    test_image = np.expand_dims(test_image, axis=0)\n",
    "    result = model.predict(test_image, batch_size=1)\n",
    "    print(result)\n",
    "    print(result[0])\n",
    "    print(result[0][1])\n",
    "    if(result[0][0]==1):\n",
    "        return \"RG Frente\"\n",
    "    elif(result[0][1]==1):\n",
    "        return \"RG Verso\"\n",
    "    elif(result[0][2]==1):\n",
    "        return \"CPF Frente\"\n",
    "    elif(result[0][3]==1):\n",
    "        return \"CPF Verso\"\n",
    "    elif(result[0][4]==1):\n",
    "        return \"CNH Frente\"\n",
    "    elif(result[0][5]==1):\n",
    "        return \"CNH Verso\""
   ]
  },
  {
   "cell_type": "code",
   "execution_count": 18,
   "id": "881b8b93-a0df-4cd2-afe2-ecc364317123",
   "metadata": {},
   "outputs": [],
   "source": [
    "import os\n",
    "\n",
    "def get_and_predict_jpgs(directory_path):\n",
    "  for filename in os.listdir(directory_path):\n",
    "      if filename.endswith(\".jpg\") or filename.endswith(\".jpeg\"):\n",
    "          img_path = os.path.join(directory_path, filename)\n",
    "          prediction = predict(img_path)\n",
    "          print(f\"Image: {filename} - Prediction: {prediction}\")"
   ]
  },
  {
   "cell_type": "code",
   "execution_count": 25,
   "id": "95c255ea-d223-44a1-bdaa-3b25b6e60b1c",
   "metadata": {},
   "outputs": [
    {
     "name": "stdout",
     "output_type": "stream",
     "text": [
      "1/1 [==============================] - 0s 31ms/step\n",
      "[[1. 0. 0. 0. 0. 0.]]\n",
      "[1. 0. 0. 0. 0. 0.]\n",
      "0.0\n",
      "RG Frente\n"
     ]
    }
   ],
   "source": [
    "label = predict('DataSet/Predict/rf1.jpg')\n",
    "print(label)"
   ]
  },
  {
   "cell_type": "code",
   "execution_count": 26,
   "id": "6332a175-3e4c-4dff-9808-3e1142427f93",
   "metadata": {},
   "outputs": [
    {
     "name": "stdout",
     "output_type": "stream",
     "text": [
      "1/1 [==============================] - 0s 34ms/step\n",
      "[[3.7555170e-32 1.0000000e+00 4.8909164e-37 0.0000000e+00 2.3450348e-27\n",
      "  0.0000000e+00]]\n",
      "[3.7555170e-32 1.0000000e+00 4.8909164e-37 0.0000000e+00 2.3450348e-27\n",
      " 0.0000000e+00]\n",
      "1.0\n",
      "RG Verso\n"
     ]
    }
   ],
   "source": [
    "label = predict('DataSet/Predict/rv1.jpg')\n",
    "print(label)"
   ]
  },
  {
   "cell_type": "code",
   "execution_count": 27,
   "id": "bd9f5941-b8eb-4c94-8768-fdfb1df9b613",
   "metadata": {},
   "outputs": [
    {
     "name": "stdout",
     "output_type": "stream",
     "text": [
      "1/1 [==============================] - 0s 37ms/step\n",
      "[[0. 0. 0. 1. 0. 0.]]\n",
      "[0. 0. 0. 1. 0. 0.]\n",
      "0.0\n",
      "Image: cpf_verso1.jpg - Prediction: CPF Verso\n",
      "1/1 [==============================] - 0s 26ms/step\n",
      "[[0.0000000e+00 0.0000000e+00 2.4562238e-21 1.0000000e+00 0.0000000e+00\n",
      "  0.0000000e+00]]\n",
      "[0.0000000e+00 0.0000000e+00 2.4562238e-21 1.0000000e+00 0.0000000e+00\n",
      " 0.0000000e+00]\n",
      "0.0\n",
      "Image: cpf_verso0.jpg - Prediction: CPF Verso\n",
      "1/1 [==============================] - 0s 21ms/step\n",
      "[[0. 0. 0. 1. 0. 0.]]\n",
      "[0. 0. 0. 1. 0. 0.]\n",
      "0.0\n",
      "Image: cpf_verso5.jpg - Prediction: CPF Verso\n",
      "1/1 [==============================] - 0s 23ms/step\n",
      "[[0. 0. 0. 1. 0. 0.]]\n",
      "[0. 0. 0. 1. 0. 0.]\n",
      "0.0\n",
      "Image: cpf_verso7.jpg - Prediction: CPF Verso\n",
      "1/1 [==============================] - 0s 24ms/step\n",
      "[[0. 0. 0. 1. 0. 0.]]\n",
      "[0. 0. 0. 1. 0. 0.]\n",
      "0.0\n",
      "Image: cpf_verso6.jpg - Prediction: CPF Verso\n",
      "1/1 [==============================] - 0s 22ms/step\n",
      "[[0. 0. 0. 1. 0. 0.]]\n",
      "[0. 0. 0. 1. 0. 0.]\n",
      "0.0\n",
      "Image: cpf_verso4.jpg - Prediction: CPF Verso\n",
      "1/1 [==============================] - 0s 23ms/step\n",
      "[[0. 0. 0. 1. 0. 0.]]\n",
      "[0. 0. 0. 1. 0. 0.]\n",
      "0.0\n",
      "Image: cpf_verso8.jpg - Prediction: CPF Verso\n",
      "1/1 [==============================] - 0s 22ms/step\n",
      "[[0. 0. 0. 1. 0. 0.]]\n",
      "[0. 0. 0. 1. 0. 0.]\n",
      "0.0\n",
      "Image: cpf_verso2.jpg - Prediction: CPF Verso\n",
      "1/1 [==============================] - 0s 23ms/step\n",
      "[[0. 0. 0. 1. 0. 0.]]\n",
      "[0. 0. 0. 1. 0. 0.]\n",
      "0.0\n",
      "Image: cpf_verso3.jpg - Prediction: CPF Verso\n",
      "1/1 [==============================] - 0s 23ms/step\n",
      "[[0.0000000e+00 0.0000000e+00 1.0000000e+00 0.0000000e+00 6.1583165e-28\n",
      "  0.0000000e+00]]\n",
      "[0.0000000e+00 0.0000000e+00 1.0000000e+00 0.0000000e+00 6.1583165e-28\n",
      " 0.0000000e+00]\n",
      "0.0\n",
      "Image: cpf_Frente6.jpg - Prediction: CPF Frente\n",
      "1/1 [==============================] - 0s 23ms/step\n",
      "[[0. 0. 1. 0. 0. 0.]]\n",
      "[0. 0. 1. 0. 0. 0.]\n",
      "0.0\n",
      "Image: cpf_Frente1.jpg - Prediction: CPF Frente\n",
      "1/1 [==============================] - 0s 26ms/step\n",
      "[[0. 0. 1. 0. 0. 0.]]\n",
      "[0. 0. 1. 0. 0. 0.]\n",
      "0.0\n",
      "Image: cpf_Frente8.jpg - Prediction: CPF Frente\n",
      "1/1 [==============================] - 0s 20ms/step\n",
      "[[0. 0. 1. 0. 0. 0.]]\n",
      "[0. 0. 1. 0. 0. 0.]\n",
      "0.0\n",
      "Image: cpf_Frente7.jpg - Prediction: CPF Frente\n",
      "1/1 [==============================] - 0s 23ms/step\n",
      "[[0. 0. 1. 0. 0. 0.]]\n",
      "[0. 0. 1. 0. 0. 0.]\n",
      "0.0\n",
      "Image: cpf_Frente5.jpg - Prediction: CPF Frente\n",
      "1/1 [==============================] - 0s 23ms/step\n",
      "[[0. 0. 1. 0. 0. 0.]]\n",
      "[0. 0. 1. 0. 0. 0.]\n",
      "0.0\n",
      "Image: cpf_Frente4.jpg - Prediction: CPF Frente\n",
      "1/1 [==============================] - 0s 23ms/step\n",
      "[[0. 0. 1. 0. 0. 0.]]\n",
      "[0. 0. 1. 0. 0. 0.]\n",
      "0.0\n",
      "Image: cpf_Frente2.jpg - Prediction: CPF Frente\n",
      "1/1 [==============================] - 0s 22ms/step\n",
      "[[0. 0. 1. 0. 0. 0.]]\n",
      "[0. 0. 1. 0. 0. 0.]\n",
      "0.0\n",
      "Image: cpf_Frente0.jpg - Prediction: CPF Frente\n",
      "1/1 [==============================] - 0s 23ms/step\n",
      "[[0. 0. 1. 0. 0. 0.]]\n",
      "[0. 0. 1. 0. 0. 0.]\n",
      "0.0\n",
      "Image: cpf_Frente3.jpg - Prediction: CPF Frente\n",
      "1/1 [==============================] - 0s 23ms/step\n",
      "[[0.000000e+00 0.000000e+00 2.349102e-25 0.000000e+00 4.746988e-30\n",
      "  1.000000e+00]]\n",
      "[0.000000e+00 0.000000e+00 2.349102e-25 0.000000e+00 4.746988e-30\n",
      " 1.000000e+00]\n",
      "0.0\n",
      "Image: cnh_verso5.jpg - Prediction: CNH Verso\n",
      "1/1 [==============================] - 0s 23ms/step\n",
      "[[0.000000e+00 0.000000e+00 2.052419e-26 0.000000e+00 5.675011e-15\n",
      "  1.000000e+00]]\n",
      "[0.000000e+00 0.000000e+00 2.052419e-26 0.000000e+00 5.675011e-15\n",
      " 1.000000e+00]\n",
      "0.0\n",
      "Image: cnh_verso6.jpg - Prediction: CNH Verso\n",
      "1/1 [==============================] - 0s 24ms/step\n",
      "[[0.0000000e+00 0.0000000e+00 7.9190153e-12 0.0000000e+00 6.6198288e-03\n",
      "  1.0000000e+00]]\n",
      "[0.0000000e+00 0.0000000e+00 7.9190153e-12 0.0000000e+00 6.6198288e-03\n",
      " 1.0000000e+00]\n",
      "0.0\n",
      "Image: cnh_verso8.jpg - Prediction: CNH Verso\n",
      "1/1 [==============================] - 0s 24ms/step\n",
      "[[0.0000000e+00 0.0000000e+00 1.7975405e-35 0.0000000e+00 1.3619528e-27\n",
      "  1.0000000e+00]]\n",
      "[0.0000000e+00 0.0000000e+00 1.7975405e-35 0.0000000e+00 1.3619528e-27\n",
      " 1.0000000e+00]\n",
      "0.0\n",
      "Image: cnh_verso7.jpg - Prediction: CNH Verso\n",
      "1/1 [==============================] - 0s 22ms/step\n",
      "[[0.0000000e+00 0.0000000e+00 1.5766125e-26 0.0000000e+00 0.0000000e+00\n",
      "  9.9983144e-01]]\n",
      "[0.0000000e+00 0.0000000e+00 1.5766125e-26 0.0000000e+00 0.0000000e+00\n",
      " 9.9983144e-01]\n",
      "0.0\n",
      "Image: cnh_verso3.jpg - Prediction: None\n",
      "1/1 [==============================] - 0s 21ms/step\n",
      "[[0.000000e+00 0.000000e+00 9.299502e-31 0.000000e+00 0.000000e+00\n",
      "  1.000000e+00]]\n",
      "[0.000000e+00 0.000000e+00 9.299502e-31 0.000000e+00 0.000000e+00\n",
      " 1.000000e+00]\n",
      "0.0\n",
      "Image: cnh_verso2.jpg - Prediction: CNH Verso\n",
      "1/1 [==============================] - 0s 23ms/step\n",
      "[[0.0000000e+00 9.0665824e-34 4.2469243e-20 0.0000000e+00 2.3879665e-36\n",
      "  1.0000000e+00]]\n",
      "[0.0000000e+00 9.0665824e-34 4.2469243e-20 0.0000000e+00 2.3879665e-36\n",
      " 1.0000000e+00]\n",
      "9.066582e-34\n",
      "Image: cnh_verso1.jpg - Prediction: CNH Verso\n",
      "1/1 [==============================] - 0s 21ms/step\n",
      "[[0.0000000e+00 0.0000000e+00 9.9791428e-26 0.0000000e+00 2.5077979e-26\n",
      "  1.0000000e+00]]\n",
      "[0.0000000e+00 0.0000000e+00 9.9791428e-26 0.0000000e+00 2.5077979e-26\n",
      " 1.0000000e+00]\n",
      "0.0\n",
      "Image: cnh_verso4.jpg - Prediction: CNH Verso\n",
      "1/1 [==============================] - 0s 21ms/step\n",
      "[[0.0000000e+00 2.4572387e-34 3.4941922e-23 0.0000000e+00 6.9609320e-26\n",
      "  1.0000000e+00]]\n",
      "[0.0000000e+00 2.4572387e-34 3.4941922e-23 0.0000000e+00 6.9609320e-26\n",
      " 1.0000000e+00]\n",
      "2.4572387e-34\n",
      "Image: cnh_verso0.jpg - Prediction: CNH Verso\n",
      "1/1 [==============================] - 0s 23ms/step\n",
      "[[0.0000000e+00 0.0000000e+00 1.1643221e-35 0.0000000e+00 1.0000000e+00\n",
      "  0.0000000e+00]]\n",
      "[0.0000000e+00 0.0000000e+00 1.1643221e-35 0.0000000e+00 1.0000000e+00\n",
      " 0.0000000e+00]\n",
      "0.0\n",
      "Image: cnh_front5.jpg - Prediction: CNH Frente\n",
      "1/1 [==============================] - 0s 24ms/step\n",
      "[[0. 0. 0. 0. 1. 0.]]\n",
      "[0. 0. 0. 0. 1. 0.]\n",
      "0.0\n",
      "Image: cnh_front4.jpg - Prediction: CNH Frente\n",
      "1/1 [==============================] - 0s 24ms/step\n",
      "[[0.0000000e+00 0.0000000e+00 1.4107112e-21 0.0000000e+00 1.0000000e+00\n",
      "  0.0000000e+00]]\n",
      "[0.0000000e+00 0.0000000e+00 1.4107112e-21 0.0000000e+00 1.0000000e+00\n",
      " 0.0000000e+00]\n",
      "0.0\n",
      "Image: cnh_front7.jpg - Prediction: CNH Frente\n",
      "1/1 [==============================] - 0s 26ms/step\n",
      "[[0. 0. 0. 0. 1. 0.]]\n",
      "[0. 0. 0. 0. 1. 0.]\n",
      "0.0\n",
      "Image: cnh_front1.jpg - Prediction: CNH Frente\n",
      "1/1 [==============================] - 0s 22ms/step\n",
      "[[0.000000e+00 0.000000e+00 0.000000e+00 0.000000e+00 1.000000e+00\n",
      "  8.006894e-38]]\n",
      "[0.000000e+00 0.000000e+00 0.000000e+00 0.000000e+00 1.000000e+00\n",
      " 8.006894e-38]\n",
      "0.0\n",
      "Image: cnh_front2.jpg - Prediction: CNH Frente\n",
      "1/1 [==============================] - 0s 23ms/step\n",
      "[[0. 0. 0. 0. 1. 0.]]\n",
      "[0. 0. 0. 0. 1. 0.]\n",
      "0.0\n",
      "Image: cnh_front0.jpg - Prediction: CNH Frente\n",
      "1/1 [==============================] - 0s 23ms/step\n",
      "[[0. 0. 0. 0. 1. 0.]]\n",
      "[0. 0. 0. 0. 1. 0.]\n",
      "0.0\n",
      "Image: cnh_front8.jpg - Prediction: CNH Frente\n",
      "1/1 [==============================] - 0s 22ms/step\n",
      "[[0.000000e+00 0.000000e+00 4.236175e-15 0.000000e+00 1.000000e+00\n",
      "  0.000000e+00]]\n",
      "[0.000000e+00 0.000000e+00 4.236175e-15 0.000000e+00 1.000000e+00\n",
      " 0.000000e+00]\n",
      "0.0\n",
      "Image: cnh_front6.jpg - Prediction: CNH Frente\n",
      "1/1 [==============================] - 0s 23ms/step\n",
      "[[0. 0. 0. 0. 1. 0.]]\n",
      "[0. 0. 0. 0. 1. 0.]\n",
      "0.0\n",
      "Image: cnh_front3.jpg - Prediction: CNH Frente\n",
      "1/1 [==============================] - 0s 23ms/step\n",
      "[[1. 0. 0. 0. 0. 0.]]\n",
      "[1. 0. 0. 0. 0. 0.]\n",
      "0.0\n",
      "Image: rf3.jpg - Prediction: RG Frente\n",
      "1/1 [==============================] - 0s 21ms/step\n",
      "[[1. 0. 0. 0. 0. 0.]]\n",
      "[1. 0. 0. 0. 0. 0.]\n",
      "0.0\n",
      "Image: rf2.jpg - Prediction: RG Frente\n",
      "1/1 [==============================] - 0s 24ms/step\n",
      "[[1.0000000e+00 0.0000000e+00 0.0000000e+00 0.0000000e+00 1.8427925e-23\n",
      "  0.0000000e+00]]\n",
      "[1.0000000e+00 0.0000000e+00 0.0000000e+00 0.0000000e+00 1.8427925e-23\n",
      " 0.0000000e+00]\n",
      "0.0\n",
      "Image: rf4.jpg - Prediction: RG Frente\n",
      "1/1 [==============================] - 0s 25ms/step\n",
      "[[0.0000000e+00 1.0000000e+00 3.1663677e-28 0.0000000e+00 2.9264163e-18\n",
      "  5.1713064e-34]]\n",
      "[0.0000000e+00 1.0000000e+00 3.1663677e-28 0.0000000e+00 2.9264163e-18\n",
      " 5.1713064e-34]\n",
      "1.0\n",
      "Image: rv2.jpg - Prediction: RG Verso\n",
      "1/1 [==============================] - 0s 23ms/step\n",
      "[[0.0000000e+00 1.0000000e+00 5.7571072e-37 0.0000000e+00 1.6285304e-16\n",
      "  0.0000000e+00]]\n",
      "[0.0000000e+00 1.0000000e+00 5.7571072e-37 0.0000000e+00 1.6285304e-16\n",
      " 0.0000000e+00]\n",
      "1.0\n",
      "Image: rv3.jpg - Prediction: RG Verso\n",
      "1/1 [==============================] - 0s 23ms/step\n",
      "[[7.1755152e-26 1.0000000e+00 1.0914486e-04 0.0000000e+00 1.4310670e-17\n",
      "  7.8372854e-35]]\n",
      "[7.1755152e-26 1.0000000e+00 1.0914486e-04 0.0000000e+00 1.4310670e-17\n",
      " 7.8372854e-35]\n",
      "1.0\n",
      "Image: rv4.jpg - Prediction: RG Verso\n",
      "1/1 [==============================] - 0s 23ms/step\n",
      "[[1. 0. 0. 0. 0. 0.]]\n",
      "[1. 0. 0. 0. 0. 0.]\n",
      "0.0\n",
      "Image: rf1.jpg - Prediction: RG Frente\n",
      "1/1 [==============================] - 0s 25ms/step\n",
      "[[3.7555170e-32 1.0000000e+00 4.8909164e-37 0.0000000e+00 2.3450348e-27\n",
      "  0.0000000e+00]]\n",
      "[3.7555170e-32 1.0000000e+00 4.8909164e-37 0.0000000e+00 2.3450348e-27\n",
      " 0.0000000e+00]\n",
      "1.0\n",
      "Image: rv1.jpg - Prediction: RG Verso\n"
     ]
    }
   ],
   "source": [
    "directory_path = 'DataSet/Predict'\n",
    "get_and_predict_jpgs(directory_path) "
   ]
  }
 ],
 "metadata": {
  "kernelspec": {
   "display_name": "Python 3 (ipykernel)",
   "language": "python",
   "name": "python3"
  },
  "language_info": {
   "codemirror_mode": {
    "name": "ipython",
    "version": 3
   },
   "file_extension": ".py",
   "mimetype": "text/x-python",
   "name": "python",
   "nbconvert_exporter": "python",
   "pygments_lexer": "ipython3",
   "version": "3.10.12"
  }
 },
 "nbformat": 4,
 "nbformat_minor": 5
}
